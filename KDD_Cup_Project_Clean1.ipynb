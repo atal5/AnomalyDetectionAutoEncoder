{
 "cells": [
  {
   "cell_type": "markdown",
   "metadata": {},
   "source": [
    "### Dependencies and Global Constants"
   ]
  },
  {
   "cell_type": "code",
   "execution_count": 1,
   "metadata": {},
   "outputs": [
    {
     "name": "stderr",
     "output_type": "stream",
     "text": [
      "Using TensorFlow backend.\n"
     ]
    }
   ],
   "source": [
    "import pandas as pd\n",
    "import numpy as np\n",
    "import matplotlib.pyplot as plt\n",
    "pd.set_option('max_columns',500)\n",
    "pd.set_option('max_rows',500)\n",
    "\n",
    "from sklearn.preprocessing import StandardScaler\n",
    "from sklearn.model_selection import train_test_split\n",
    "RANDOM_SEED = 42\n",
    "\n",
    "from keras.layers import Input, Dense\n",
    "from keras.models import Model, load_model\n",
    "from keras.callbacks import ModelCheckpoint, EarlyStopping\n",
    "from sklearn.metrics import mean_squared_error\n",
    "\n",
    "from sklearn.metrics import (confusion_matrix, auc, roc_curve, cohen_kappa_score, accuracy_score)\n",
    "import seaborn as sns\n",
    "import warnings\n",
    "warnings.filterwarnings(\"ignore\")"
   ]
  },
  {
   "cell_type": "markdown",
   "metadata": {},
   "source": [
    "### Data Preparation"
   ]
  },
  {
   "cell_type": "code",
   "execution_count": 2,
   "metadata": {},
   "outputs": [],
   "source": [
    "kddCupTrain = pd.read_csv('kddCupTrain.csv',header=None)\n",
    "kdd_test = pd.read_csv('kddCupTest.csv',header=None)\n",
    "#Rename Class Column\n",
    "kddCupTrain.rename(columns={41:'Class'},inplace=True)\n",
    "#Convert values to 0 and 1\n",
    "kddCupTrain['Class'] = np.where(kddCupTrain['Class']=='normal.',0,1)\n",
    "\n",
    "#Save and Drop Class column for combined processing\n",
    "trafficClass  = kddCupTrain['Class']\n",
    "kddCupTrain.drop(['Class'],axis=1,inplace=True)\n",
    "\n",
    "#Combined Processing of Train and Test data to get equal one-hot columns\n",
    "combo = pd.concat([kddCupTrain,kdd_test])\n",
    "#Remove unwanted columns\n",
    "combo.drop([7,19],axis=1,inplace=True)\n",
    "#One hot encoding\n",
    "combo_ohe = pd.get_dummies(combo)\n",
    "#split the data \n",
    "kddCupTrain_ohe = combo_ohe.iloc[:kddCupTrain.shape[0],:]\n",
    "kdd_test_ohe = combo_ohe.iloc[kddCupTrain.shape[0]:,:]\n",
    "\n",
    "\n",
    "#Standardize columns which have max values more than 1\n",
    "idx = (kddCupTrain_ohe.apply(max) >1).values\n",
    "#Train standardization\n",
    "scaler = StandardScaler()\n",
    "kddCupTrain_ohe.iloc[:,idx] = scaler.fit_transform(kddCupTrain_ohe.iloc[:,idx].values)\n",
    "#Test standardization\n",
    "idx = (kdd_test_ohe.apply(max) >1).values\n",
    "kdd_test_ohe.iloc[:,idx] = scaler.transform(kdd_test_ohe.iloc[:,idx].values)\n",
    "\n",
    "#Add clas column back\n",
    "kddCupTrain_ohe['Class'] = trafficClass\n"
   ]
  },
  {
   "cell_type": "code",
   "execution_count": 17,
   "metadata": {},
   "outputs": [
    {
     "data": {
      "text/plain": [
       "((985262, 109), (196557, 108))"
      ]
     },
     "execution_count": 17,
     "metadata": {},
     "output_type": "execute_result"
    }
   ],
   "source": [
    "kddCupTrain_ohe.shape, kdd_test_ohe.shape"
   ]
  },
  {
   "cell_type": "markdown",
   "metadata": {},
   "source": [
    "### Create Train Test Split"
   ]
  },
  {
   "cell_type": "code",
   "execution_count": 18,
   "metadata": {},
   "outputs": [
    {
     "name": "stdout",
     "output_type": "stream",
     "text": [
      "Train: shape X (788209, 108) , shape Y (788209,)\n",
      "Test: shape X (197053, 108) , shape Y (197053,)\n"
     ]
    }
   ],
   "source": [
    "X_train_split, X_test_split = train_test_split(kddCupTrain_ohe,test_size=0.2,\n",
    "                                  stratify=kddCupTrain_ohe['Class'],\n",
    "                                  random_state=RANDOM_SEED)\n",
    "\n",
    "y_train = X_train_split['Class']\n",
    "X_train = X_train_split.drop(['Class'],axis=1)\n",
    "\n",
    "y_test = X_test_split['Class']\n",
    "X_test = X_test_split.drop(['Class'],axis=1)\n",
    "\n",
    "print('Train: shape X', X_train.shape,', shape Y',y_train.shape)\n",
    "print('Test: shape X', X_test.shape,', shape Y',y_test.shape)"
   ]
  },
  {
   "cell_type": "markdown",
   "metadata": {},
   "source": [
    "### Create data for Autoencoder with only Normal examples"
   ]
  },
  {
   "cell_type": "code",
   "execution_count": 19,
   "metadata": {},
   "outputs": [],
   "source": [
    "X_trainNorm = X_train[y_train==0]\n",
    "X_trainNorm_val = X_trainNorm.values\n",
    "X_testNorm_val = X_test[y_test==0].values"
   ]
  },
  {
   "cell_type": "markdown",
   "metadata": {},
   "source": [
    "### Create Autoencoder network"
   ]
  },
  {
   "cell_type": "code",
   "execution_count": 20,
   "metadata": {},
   "outputs": [
    {
     "name": "stdout",
     "output_type": "stream",
     "text": [
      "Input Dim:  108\n"
     ]
    }
   ],
   "source": [
    "input_dim = X_trainNorm_val.shape[1]\n",
    "print('Input Dim: ',input_dim)\n",
    "layer1_dim = 14\n",
    "encoder_dim = 7"
   ]
  },
  {
   "cell_type": "code",
   "execution_count": 21,
   "metadata": {},
   "outputs": [
    {
     "name": "stdout",
     "output_type": "stream",
     "text": [
      "_________________________________________________________________\n",
      "Layer (type)                 Output Shape              Param #   \n",
      "=================================================================\n",
      "input_2 (InputLayer)         (None, 108)               0         \n",
      "_________________________________________________________________\n",
      "dense_5 (Dense)              (None, 14)                1526      \n",
      "_________________________________________________________________\n",
      "dense_6 (Dense)              (None, 7)                 105       \n",
      "_________________________________________________________________\n",
      "dense_7 (Dense)              (None, 14)                112       \n",
      "_________________________________________________________________\n",
      "dense_8 (Dense)              (None, 108)               1620      \n",
      "=================================================================\n",
      "Total params: 3,363\n",
      "Trainable params: 3,363\n",
      "Non-trainable params: 0\n",
      "_________________________________________________________________\n"
     ]
    }
   ],
   "source": [
    "input_layer = Input(shape=(input_dim,))\n",
    "encoder1 = Dense(layer1_dim,activation='tanh')(input_layer)\n",
    "encoder2 = Dense(encoder_dim,activation='relu')(encoder1)\n",
    "\n",
    "decoder1 = Dense(layer1_dim,activation='tanh')(encoder2)\n",
    "decoder2 = Dense(input_dim,activation='linear')(decoder1)\n",
    "\n",
    "autoencoder = Model(inputs=input_layer,outputs=decoder2)\n",
    "autoencoder.summary()"
   ]
  },
  {
   "cell_type": "markdown",
   "metadata": {},
   "source": [
    "### Train the Model and save to disk"
   ]
  },
  {
   "cell_type": "code",
   "execution_count": 22,
   "metadata": {},
   "outputs": [
    {
     "name": "stdout",
     "output_type": "stream",
     "text": [
      "Train on 778224 samples, validate on 194557 samples\n",
      "Epoch 1/100\n",
      "778224/778224 [==============================] - 20s 26us/step - loss: 0.0911 - val_loss: 0.0840\n",
      "Epoch 2/100\n",
      "778224/778224 [==============================] - 21s 27us/step - loss: 0.0786 - val_loss: 0.0771\n",
      "Epoch 3/100\n",
      "778224/778224 [==============================] - 21s 26us/step - loss: 0.0712 - val_loss: 0.0724\n",
      "Epoch 4/100\n",
      "778224/778224 [==============================] - 20s 26us/step - loss: 0.0661 - val_loss: 0.0678\n",
      "Epoch 5/100\n",
      "778224/778224 [==============================] - 20s 25us/step - loss: 0.0621 - val_loss: 0.0661\n",
      "Epoch 6/100\n",
      "778224/778224 [==============================] - 19s 25us/step - loss: 0.0596 - val_loss: 0.0641\n",
      "Epoch 7/100\n",
      "778224/778224 [==============================] - 19s 25us/step - loss: 0.0576 - val_loss: 0.0632\n",
      "Epoch 8/100\n",
      "778224/778224 [==============================] - 19s 25us/step - loss: 0.0566 - val_loss: 0.0631\n",
      "Epoch 9/100\n",
      "778224/778224 [==============================] - 19s 24us/step - loss: 0.0555 - val_loss: 0.0617\n",
      "Epoch 10/100\n",
      "778224/778224 [==============================] - 19s 24us/step - loss: 0.0547 - val_loss: 0.0607\n",
      "Epoch 11/100\n",
      "778224/778224 [==============================] - 19s 25us/step - loss: 0.0542 - val_loss: 0.0620\n"
     ]
    }
   ],
   "source": [
    "nb_epoch = 100\n",
    "batch_size = 32\n",
    "\n",
    "autoencoder.compile(optimizer='adam',loss='mse')\n",
    "checkpointer = ModelCheckpoint(filepath='Model.h5', verbose=0,save_best_only=True)\n",
    "earlystopping = EarlyStopping(monitor='val_loss',patience=1,verbose=0)\n",
    "history = autoencoder.fit(X_trainNorm_val,X_trainNorm_val,\n",
    "                         epochs=nb_epoch,\n",
    "                         batch_size=batch_size,\n",
    "                         shuffle = True,\n",
    "                         validation_data = (X_testNorm_val,X_testNorm_val),\n",
    "                         verbose=1,\n",
    "                         callbacks=[checkpointer,earlystopping]).history"
   ]
  },
  {
   "cell_type": "code",
   "execution_count": 23,
   "metadata": {},
   "outputs": [
    {
     "data": {
      "image/png": "[encoded data removed]",
      "text/plain": [
       "<Figure size 432x288 with 1 Axes>"
      ]
     },
     "metadata": {
      "needs_background": "light"
     },
     "output_type": "display_data"
    }
   ],
   "source": [
    "plt.plot(history['loss'])\n",
    "plt.plot(history['val_loss'])\n",
    "plt.title('model loss')\n",
    "plt.ylabel('loss')\n",
    "plt.xlabel('epoch')\n",
    "plt.legend(['train', 'test'], loc='upper right');"
   ]
  },
  {
   "cell_type": "markdown",
   "metadata": {},
   "source": [
    "### Evaluation"
   ]
  },
  {
   "cell_type": "code",
   "execution_count": 24,
   "metadata": {},
   "outputs": [
    {
     "name": "stdout",
     "output_type": "stream",
     "text": [
      "AUC:  0.9891700382314957\n",
      "Threshold : 0.03043796886668186\n",
      "Confustion Matrix:  [[189650   4907]\n",
      " [    12   2484]]\n",
      "Cohen Kappa , Accuracy:  (0.492874138504272, 0.9750371727403288)\n"
     ]
    }
   ],
   "source": [
    "#Load the trained model\n",
    "autoencoder = load_model('Model.h5')\n",
    "#Predictions for test data\n",
    "testPredictions = autoencoder.predict(X_test)\n",
    "X_test.shape,testPredictions.shape\n",
    "\n",
    "#Mean Squared Error for reconstruction error\n",
    "testMSE = mean_squared_error(X_test.transpose(),testPredictions.transpose(),\n",
    "                            multioutput='raw_values')\n",
    "error_df = pd.DataFrame({'reconstruction_error':testMSE,'true_class':y_test})\n",
    "error_df.head()\n",
    "\n",
    "#Reconstruction error for normal traffic\n",
    "normal_error_df = error_df[(error_df['true_class']== 0) & (error_df['reconstruction_error'] < 10)]\n",
    "\n",
    "#Reconstruction error for Attack traffic\n",
    "fraud_error_df = error_df[error_df['true_class'] == 1]\n",
    "\n",
    "#ROC stats\n",
    "fpr, tpr, thresholds = roc_curve(error_df.true_class, error_df.reconstruction_error)\n",
    "roc_auc = auc(fpr, tpr)\n",
    "print('AUC: ',roc_auc)\n",
    "\n",
    "#Threshold for reconstruction error above which which the traffic will be\n",
    "#classified as Attack\n",
    "threshold = normal_error_df.reconstruction_error.quantile(q=0.975)\n",
    "print('Threshold :',threshold)\n",
    "\n",
    "#Prepare y_pred based on the threshold\n",
    "y_pred = [1 if e > threshold else 0 for e in error_df.reconstruction_error.values]\n",
    "\n",
    "#Confustion matrix\n",
    "conf_matrix = confusion_matrix(error_df.true_class, y_pred)\n",
    "print('Confustion Matrix: ',conf_matrix)\n",
    "\n",
    "#Cohen kappa and Accuracy\n",
    "ck = cohen_kappa_score(error_df.true_class, y_pred),accuracy_score(error_df.true_class, y_pred)\n",
    "print('Cohen Kappa , Accuracy: ',ck)"
   ]
  },
  {
   "cell_type": "markdown",
   "metadata": {},
   "source": [
    "### Predict on Test Data"
   ]
  },
  {
   "cell_type": "code",
   "execution_count": 25,
   "metadata": {},
   "outputs": [
    {
     "data": {
      "text/plain": [
       "(196557, 108)"
      ]
     },
     "execution_count": 25,
     "metadata": {},
     "output_type": "execute_result"
    }
   ],
   "source": [
    "testPredictions = autoencoder.predict(kdd_test_ohe)\n",
    "testPredictions.shape"
   ]
  },
  {
   "cell_type": "code",
   "execution_count": 26,
   "metadata": {},
   "outputs": [
    {
     "data": {
      "text/html": [
       "<div>\n",
       "<style scoped>\n",
       "    .dataframe tbody tr th:only-of-type {\n",
       "        vertical-align: middle;\n",
       "    }\n",
       "\n",
       "    .dataframe tbody tr th {\n",
       "        vertical-align: top;\n",
       "    }\n",
       "\n",
       "    .dataframe thead th {\n",
       "        text-align: right;\n",
       "    }\n",
       "</style>\n",
       "<table border=\"1\" class=\"dataframe\">\n",
       "  <thead>\n",
       "    <tr style=\"text-align: right;\">\n",
       "      <th></th>\n",
       "      <th>reconstruction_error</th>\n",
       "    </tr>\n",
       "  </thead>\n",
       "  <tbody>\n",
       "    <tr>\n",
       "      <th>0</th>\n",
       "      <td>0.000538</td>\n",
       "    </tr>\n",
       "    <tr>\n",
       "      <th>1</th>\n",
       "      <td>0.002569</td>\n",
       "    </tr>\n",
       "    <tr>\n",
       "      <th>2</th>\n",
       "      <td>0.003537</td>\n",
       "    </tr>\n",
       "    <tr>\n",
       "      <th>3</th>\n",
       "      <td>0.000583</td>\n",
       "    </tr>\n",
       "    <tr>\n",
       "      <th>4</th>\n",
       "      <td>0.002698</td>\n",
       "    </tr>\n",
       "  </tbody>\n",
       "</table>\n",
       "</div>"
      ],
      "text/plain": [
       "   reconstruction_error\n",
       "0              0.000538\n",
       "1              0.002569\n",
       "2              0.003537\n",
       "3              0.000583\n",
       "4              0.002698"
      ]
     },
     "execution_count": 26,
     "metadata": {},
     "output_type": "execute_result"
    }
   ],
   "source": [
    "#Mean Squared Error for reconstruction error\n",
    "testMSE = mean_squared_error(kdd_test_ohe.transpose(),testPredictions.transpose(),\n",
    "                            multioutput='raw_values')\n",
    "error_df = pd.DataFrame({'reconstruction_error':testMSE})\n",
    "error_df.head()"
   ]
  },
  {
   "cell_type": "code",
   "execution_count": 27,
   "metadata": {},
   "outputs": [],
   "source": [
    "error_df.to_csv('result2.csv')"
   ]
  }
 ],
 "metadata": {
  "kernelspec": {
   "display_name": "Python 3",
   "language": "python",
   "name": "python3"
  },
  "language_info": {
   "codemirror_mode": {
    "name": "ipython",
    "version": 3
   },
   "file_extension": ".py",
   "mimetype": "text/x-python",
   "name": "python",
   "nbconvert_exporter": "python",
   "pygments_lexer": "ipython3",
   "version": "3.6.9"
  }
 },
 "nbformat": 4,
 "nbformat_minor": 2
}
